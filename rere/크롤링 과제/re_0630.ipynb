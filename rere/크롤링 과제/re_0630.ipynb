{
 "cells": [
  {
   "cell_type": "code",
   "execution_count": 1,
   "metadata": {},
   "outputs": [
    {
     "data": {
      "text/html": [
       "<div>\n",
       "<style scoped>\n",
       "    .dataframe tbody tr th:only-of-type {\n",
       "        vertical-align: middle;\n",
       "    }\n",
       "\n",
       "    .dataframe tbody tr th {\n",
       "        vertical-align: top;\n",
       "    }\n",
       "\n",
       "    .dataframe thead th {\n",
       "        text-align: right;\n",
       "    }\n",
       "</style>\n",
       "<table border=\"1\" class=\"dataframe\">\n",
       "  <thead>\n",
       "    <tr style=\"text-align: right;\">\n",
       "      <th></th>\n",
       "      <th>status</th>\n",
       "      <th>title</th>\n",
       "      <th>ap_num</th>\n",
       "      <th>application_date</th>\n",
       "      <th>applicant</th>\n",
       "      <th>representative</th>\n",
       "      <th>final_owner</th>\n",
       "      <th>priority_date</th>\n",
       "      <th>international_filing_date</th>\n",
       "      <th>summary</th>\n",
       "      <th>...</th>\n",
       "      <th>금융</th>\n",
       "      <th>교육</th>\n",
       "      <th>농업</th>\n",
       "      <th>엔터테인먼트</th>\n",
       "      <th>보안</th>\n",
       "      <th>자동화시스템</th>\n",
       "      <th>applicant_sgrp</th>\n",
       "      <th>applicant_lgrp</th>\n",
       "      <th>ongoing</th>\n",
       "      <th>application_year</th>\n",
       "    </tr>\n",
       "  </thead>\n",
       "  <tbody>\n",
       "    <tr>\n",
       "      <th>0</th>\n",
       "      <td>등록</td>\n",
       "      <td>자동화 폐기물 수거함의 딥러닝 기반 인공지능 운영 시스템 및 방법(OPERATION...</td>\n",
       "      <td>1020200078616</td>\n",
       "      <td>2020-06-26</td>\n",
       "      <td>(주)에이씨아이케미칼아시아</td>\n",
       "      <td>고영갑</td>\n",
       "      <td>(주)에이씨아이케미칼아시아</td>\n",
       "      <td>NaN</td>\n",
       "      <td>NaN</td>\n",
       "      <td>본 발명의 실시 예에 따른 시스템은, 자동화 폐기물 수거함의 딥러닝 기반 인공지능 ...</td>\n",
       "      <td>...</td>\n",
       "      <td>0</td>\n",
       "      <td>0</td>\n",
       "      <td>0</td>\n",
       "      <td>0</td>\n",
       "      <td>0</td>\n",
       "      <td>1</td>\n",
       "      <td>etc</td>\n",
       "      <td>etc</td>\n",
       "      <td>1</td>\n",
       "      <td>2020</td>\n",
       "    </tr>\n",
       "    <tr>\n",
       "      <th>1</th>\n",
       "      <td>등록</td>\n",
       "      <td>인공지능(AI)을 통한 딥러닝훈련모듈과, 순위화프레임워크모듈을 활용하여, 법률전문가...</td>\n",
       "      <td>1020170099431</td>\n",
       "      <td>2017-08-07</td>\n",
       "      <td>강준철</td>\n",
       "      <td>이영규</td>\n",
       "      <td>강소라</td>\n",
       "      <td>NaN</td>\n",
       "      <td>NaN</td>\n",
       "      <td>본 발명은, 인공지능(AI)에 관한 기술과 온라인 문자열 사전에 관한 기술을 활용하...</td>\n",
       "      <td>...</td>\n",
       "      <td>0</td>\n",
       "      <td>0</td>\n",
       "      <td>0</td>\n",
       "      <td>0</td>\n",
       "      <td>0</td>\n",
       "      <td>0</td>\n",
       "      <td>etc</td>\n",
       "      <td>etc</td>\n",
       "      <td>1</td>\n",
       "      <td>2017</td>\n",
       "    </tr>\n",
       "    <tr>\n",
       "      <th>2</th>\n",
       "      <td>공개</td>\n",
       "      <td>인공지능을 이용한 품질검사 시스템 및 방법(System and method for ...</td>\n",
       "      <td>1020220014151</td>\n",
       "      <td>2022-02-03</td>\n",
       "      <td>모던에이아이비전솔루션 주식회사</td>\n",
       "      <td>김정수</td>\n",
       "      <td>NaN</td>\n",
       "      <td>NaN</td>\n",
       "      <td>NaN</td>\n",
       "      <td>본 발명은 품질검사를 위한 장치 및 방법에 관한 것으로, 본 발명에 따르면, 종래,...</td>\n",
       "      <td>...</td>\n",
       "      <td>0</td>\n",
       "      <td>0</td>\n",
       "      <td>0</td>\n",
       "      <td>0</td>\n",
       "      <td>0</td>\n",
       "      <td>0</td>\n",
       "      <td>etc</td>\n",
       "      <td>etc</td>\n",
       "      <td>1</td>\n",
       "      <td>2022</td>\n",
       "    </tr>\n",
       "    <tr>\n",
       "      <th>3</th>\n",
       "      <td>공개</td>\n",
       "      <td>파이썬 딥러닝 기반 인공지능(AI) 부동산 컨설팅 매물장(Python deep le...</td>\n",
       "      <td>1020210106993</td>\n",
       "      <td>2021-08-12</td>\n",
       "      <td>조국환</td>\n",
       "      <td>NaN</td>\n",
       "      <td>NaN</td>\n",
       "      <td>NaN</td>\n",
       "      <td>NaN</td>\n",
       "      <td>본 발명은 광범위하게 활용되는 인터넷기반 부동산 정보를 때와 장소를 불문하고 기록하...</td>\n",
       "      <td>...</td>\n",
       "      <td>0</td>\n",
       "      <td>0</td>\n",
       "      <td>0</td>\n",
       "      <td>0</td>\n",
       "      <td>0</td>\n",
       "      <td>0</td>\n",
       "      <td>etc</td>\n",
       "      <td>etc</td>\n",
       "      <td>1</td>\n",
       "      <td>2021</td>\n",
       "    </tr>\n",
       "    <tr>\n",
       "      <th>4</th>\n",
       "      <td>거절</td>\n",
       "      <td>PI 기반 빅데이터 퍼스널 컬러 진단 인공지능 딥러닝 알고리즘 시스템 운영방법(PI...</td>\n",
       "      <td>1020230034713</td>\n",
       "      <td>2023-03-16</td>\n",
       "      <td>주식회사 오콜로르</td>\n",
       "      <td>박상열</td>\n",
       "      <td>NaN</td>\n",
       "      <td>NaN</td>\n",
       "      <td>NaN</td>\n",
       "      <td>본 발명은 PI(Personal Identity) 정보 빅데이터를 구축하는 통하여 ...</td>\n",
       "      <td>...</td>\n",
       "      <td>0</td>\n",
       "      <td>0</td>\n",
       "      <td>0</td>\n",
       "      <td>0</td>\n",
       "      <td>0</td>\n",
       "      <td>0</td>\n",
       "      <td>etc</td>\n",
       "      <td>etc</td>\n",
       "      <td>0</td>\n",
       "      <td>2023</td>\n",
       "    </tr>\n",
       "  </tbody>\n",
       "</table>\n",
       "<p>5 rows × 24 columns</p>\n",
       "</div>"
      ],
      "text/plain": [
       "  status                                              title         ap_num  \\\n",
       "0     등록  자동화 폐기물 수거함의 딥러닝 기반 인공지능 운영 시스템 및 방법(OPERATION...  1020200078616   \n",
       "1     등록  인공지능(AI)을 통한 딥러닝훈련모듈과, 순위화프레임워크모듈을 활용하여, 법률전문가...  1020170099431   \n",
       "2     공개  인공지능을 이용한 품질검사 시스템 및 방법(System and method for ...  1020220014151   \n",
       "3     공개  파이썬 딥러닝 기반 인공지능(AI) 부동산 컨설팅 매물장(Python deep le...  1020210106993   \n",
       "4     거절  PI 기반 빅데이터 퍼스널 컬러 진단 인공지능 딥러닝 알고리즘 시스템 운영방법(PI...  1020230034713   \n",
       "\n",
       "  application_date         applicant representative     final_owner  \\\n",
       "0       2020-06-26    (주)에이씨아이케미칼아시아            고영갑  (주)에이씨아이케미칼아시아   \n",
       "1       2017-08-07               강준철            이영규             강소라   \n",
       "2       2022-02-03  모던에이아이비전솔루션 주식회사            김정수             NaN   \n",
       "3       2021-08-12               조국환            NaN             NaN   \n",
       "4       2023-03-16         주식회사 오콜로르            박상열             NaN   \n",
       "\n",
       "   priority_date  international_filing_date  \\\n",
       "0            NaN                        NaN   \n",
       "1            NaN                        NaN   \n",
       "2            NaN                        NaN   \n",
       "3            NaN                        NaN   \n",
       "4            NaN                        NaN   \n",
       "\n",
       "                                             summary  ...  금융  교육  농업  엔터테인먼트  \\\n",
       "0  본 발명의 실시 예에 따른 시스템은, 자동화 폐기물 수거함의 딥러닝 기반 인공지능 ...  ...   0   0   0       0   \n",
       "1  본 발명은, 인공지능(AI)에 관한 기술과 온라인 문자열 사전에 관한 기술을 활용하...  ...   0   0   0       0   \n",
       "2  본 발명은 품질검사를 위한 장치 및 방법에 관한 것으로, 본 발명에 따르면, 종래,...  ...   0   0   0       0   \n",
       "3  본 발명은 광범위하게 활용되는 인터넷기반 부동산 정보를 때와 장소를 불문하고 기록하...  ...   0   0   0       0   \n",
       "4  본 발명은 PI(Personal Identity) 정보 빅데이터를 구축하는 통하여 ...  ...   0   0   0       0   \n",
       "\n",
       "   보안  자동화시스템  applicant_sgrp  applicant_lgrp  ongoing  application_year  \n",
       "0   0       1             etc             etc        1              2020  \n",
       "1   0       0             etc             etc        1              2017  \n",
       "2   0       0             etc             etc        1              2022  \n",
       "3   0       0             etc             etc        1              2021  \n",
       "4   0       0             etc             etc        0              2023  \n",
       "\n",
       "[5 rows x 24 columns]"
      ]
     },
     "execution_count": 1,
     "metadata": {},
     "output_type": "execute_result"
    }
   ],
   "source": [
    "import pandas as pd\n",
    "import openpyxl\n",
    "\n",
    "df = pd.read_excel('result_mod_28June2024.xlsx',index_col=0)\n",
    "df.head()"
   ]
  },
  {
   "cell_type": "code",
   "execution_count": 2,
   "metadata": {},
   "outputs": [],
   "source": [
    "df.international_filing_date = df.international_filing_date.fillna(0)"
   ]
  },
  {
   "cell_type": "code",
   "execution_count": 3,
   "metadata": {},
   "outputs": [],
   "source": [
    "import matplotlib\n",
    "\n",
    "matplotlib.rcParams['font.family'] ='Malgun Gothic'\n",
    "\n",
    "matplotlib.rcParams['axes.unicode_minus'] =False"
   ]
  },
  {
   "cell_type": "code",
   "execution_count": 4,
   "metadata": {},
   "outputs": [],
   "source": [
    "df_category = df.columns[-5:-15:-1]\n",
    "applicant_year = df[df.international_filing_date != 0]"
   ]
  },
  {
   "cell_type": "code",
   "execution_count": 5,
   "metadata": {},
   "outputs": [
    {
     "data": {
      "text/plain": [
       "4241     스트라드비젼\n",
       "10833    스트라드비젼\n",
       "25058    스트라드비젼\n",
       "67007    스트라드비젼\n",
       "Name: applicant_sgrp, dtype: object"
      ]
     },
     "execution_count": 5,
     "metadata": {},
     "output_type": "execute_result"
    }
   ],
   "source": [
    "# 스타트업 216개 중 특허를 낸 곳은 스트라드비젼 한 곳\n",
    "# 총 50개 특허를 냈고 그 중 4개가 해외 출원을 함\n",
    "# 어떤 특허를 많이 냈고, 그중 어떤 특허들이 해외출원을 했는지\n",
    "# 몇년도에 출원을 많이 했는지\n",
    "\n",
    "applicant_year.applicant_sgrp[applicant_year.applicant_sgrp == '스트라드비젼']"
   ]
  },
  {
   "cell_type": "code",
   "execution_count": 27,
   "metadata": {},
   "outputs": [
    {
     "data": {
      "text/plain": [
       "50"
      ]
     },
     "execution_count": 27,
     "metadata": {},
     "output_type": "execute_result"
    }
   ],
   "source": [
    "len(df[df.applicant_sgrp == '스트라드비젼'])"
   ]
  },
  {
   "cell_type": "code",
   "execution_count": 25,
   "metadata": {},
   "outputs": [],
   "source": [
    "want_grouped = df[df.applicant_sgrp == '스트라드비젼']"
   ]
  },
  {
   "cell_type": "code",
   "execution_count": 26,
   "metadata": {},
   "outputs": [
    {
     "name": "stdout",
     "output_type": "stream",
     "text": [
      "{'자동화시스템': 0, '보안': 3, '엔터테인먼트': 0, '농업': 0, '교육': 0, '금융': 0, '자동차': 28, '전자상거래서비스': 0, '의료': 0, '제너럴': 42}\n"
     ]
    }
   ],
   "source": [
    "di = {}\n",
    "for i in df_category:\n",
    "    di[i] = int(want_grouped[i].sum())\n",
    "print(di)"
   ]
  },
  {
   "cell_type": "code",
   "execution_count": 50,
   "metadata": {},
   "outputs": [],
   "source": [
    "applicant_year1 = applicant_year[applicant_year.applicant_sgrp == '스트라드비젼']"
   ]
  },
  {
   "cell_type": "code",
   "execution_count": 57,
   "metadata": {},
   "outputs": [
    {
     "name": "stdout",
     "output_type": "stream",
     "text": [
      "{'자동화시스템': 0, '보안': 0, '엔터테인먼트': 0, '농업': 0, '교육': 0, '금융': 0, '자동차': 2, '전자상거래서비스': 0, '의료': 0, '제너럴': 3}\n",
      "{'자동차': 2, '제너럴': 3}\n"
     ]
    },
    {
     "data": {
      "image/png": "[encoded data removed]",
      "text/plain": [
       "<Figure size 640x480 with 1 Axes>"
      ]
     },
     "metadata": {},
     "output_type": "display_data"
    }
   ],
   "source": [
    "di1 = {}\n",
    "for i in df_category:\n",
    "   di1[i] = int(applicant_year1[i].sum())\n",
    "print(di1)\n",
    "\n",
    "fi1 = {key:value for key, value in di1.items() if value !=0}\n",
    "print(fi1)\n",
    "cate = fi1.keys()\n",
    "val = fi1.values()\n",
    "plt.pie(val,labels=cate,colors=sns.color_palette('Set3'),shadow=True,startangle=140,autopct='%d%%')\n",
    "plt.title('스트라드비젼 해외 출원의 카테고리')\n",
    "plt.axis('equal')\n",
    "plt.show()"
   ]
  },
  {
   "cell_type": "code",
   "execution_count": 54,
   "metadata": {},
   "outputs": [
    {
     "name": "stdout",
     "output_type": "stream",
     "text": [
      "{'보안': 3, '자동차': 28, '제너럴': 42}\n"
     ]
    },
    {
     "data": {
      "image/png": "[encoded data removed]",
      "text/plain": [
       "<Figure size 640x480 with 1 Axes>"
      ]
     },
     "metadata": {},
     "output_type": "display_data"
    }
   ],
   "source": [
    "import matplotlib.pyplot as plt\n",
    "import seaborn as sns\n",
    "\n",
    "filter = {key:value for key, value in di.items() if value != 0}\n",
    "print(filter)\n",
    "explode = [0,0,0.2]\n",
    "category = filter.keys()\n",
    "value = filter.values()\n",
    "plt.pie(value,labels=category,colors= sns.color_palette('Set3'),shadow=True,startangle=110,explode=explode,autopct='%1.1f%%')\n",
    "plt.legend(category, loc ='best')\n",
    "plt.title(\"스트라드 비젼의 특허 카테고리\")\n",
    "plt.axis('equal')\n",
    "plt.show()"
   ]
  },
  {
   "cell_type": "code",
   "execution_count": 61,
   "metadata": {},
   "outputs": [
    {
     "data": {
      "text/plain": [
       "application_year\n",
       "2019    30\n",
       "2020    13\n",
       "2021     3\n",
       "2022     2\n",
       "2018     2\n",
       "Name: count, dtype: int64"
      ]
     },
     "execution_count": 61,
     "metadata": {},
     "output_type": "execute_result"
    }
   ],
   "source": [
    "# 몇년도의 출원을 많이 했는지\n",
    "\n",
    "want_grouped.application_year.value_counts()"
   ]
  },
  {
   "cell_type": "code",
   "execution_count": 78,
   "metadata": {},
   "outputs": [
    {
     "data": {
      "image/png": "[encoded data removed]",
      "text/plain": [
       "<Figure size 640x480 with 1 Axes>"
      ]
     },
     "metadata": {},
     "output_type": "display_data"
    }
   ],
   "source": [
    "plt.pie(want_grouped.application_year.value_counts(),autopct='%1.1f%%',colors=sns.color_palette('pastel'),shadow=True,startangle=140)\n",
    "plt.legend(want_grouped.application_year.value_counts().sort_index().index)\n",
    "plt.title('스트라드비젼 출원 연도 비율')\n",
    "plt.axis('equal')\n",
    "plt.show()"
   ]
  },
  {
   "cell_type": "code",
   "execution_count": 79,
   "metadata": {},
   "outputs": [
    {
     "data": {
      "text/plain": [
       "Index(['status', 'title', 'ap_num', 'application_date', 'applicant',\n",
       "       'representative', 'final_owner', 'priority_date',\n",
       "       'international_filing_date', 'summary', '제너럴', '의료', '전자상거래서비스', '자동차',\n",
       "       '금융', '교육', '농업', '엔터테인먼트', '보안', '자동화시스템', 'applicant_sgrp',\n",
       "       'applicant_lgrp', 'ongoing', 'application_year'],\n",
       "      dtype='object')"
      ]
     },
     "execution_count": 79,
     "metadata": {},
     "output_type": "execute_result"
    }
   ],
   "source": [
    "want_grouped.columns"
   ]
  },
  {
   "cell_type": "code",
   "execution_count": null,
   "metadata": {},
   "outputs": [],
   "source": [
    "want_grouped"
   ]
  },
  {
   "cell_type": "code",
   "execution_count": 77,
   "metadata": {},
   "outputs": [
    {
     "name": "stderr",
     "output_type": "stream",
     "text": [
      "C:\\Users\\com\\AppData\\Local\\Temp\\ipykernel_3208\\1089781048.py:1: FutureWarning: \n",
      "\n",
      "Passing `palette` without assigning `hue` is deprecated and will be removed in v0.14.0. Assign the `x` variable to `hue` and set `legend=False` for the same effect.\n",
      "\n",
      "  sns.countplot(data = want_grouped, x='application_year',palette=sns.color_palette('colorblind'))\n",
      "C:\\Users\\com\\AppData\\Local\\Temp\\ipykernel_3208\\1089781048.py:1: UserWarning: The palette list has more values (10) than needed (5), which may not be intended.\n",
      "  sns.countplot(data = want_grouped, x='application_year',palette=sns.color_palette('colorblind'))\n"
     ]
    },
    {
     "data": {
      "image/png": "[encoded data removed]",
      "text/plain": [
       "<Figure size 640x480 with 1 Axes>"
      ]
     },
     "metadata": {},
     "output_type": "display_data"
    }
   ],
   "source": [
    "sns.countplot(data = want_grouped, x='application_year',palette=sns.color_palette('colorblind'))\n",
    "plt.show()"
   ]
  },
  {
   "cell_type": "code",
   "execution_count": null,
   "metadata": {},
   "outputs": [],
   "source": []
  },
  {
   "cell_type": "code",
   "execution_count": null,
   "metadata": {},
   "outputs": [],
   "source": [
    "# 특허를 삼성 엘지 현대 순으로 많이 냈는데 각 카테고리별말고\n",
    "# 연도별 어떤 카테고리가 많은지 countplot => 카테고리가 많아서 한눈에 안보일 듯....\n",
    "# 가능하면 카테고리 탑 5개만은 못할 것 같기도....\n"
   ]
  },
  {
   "cell_type": "code",
   "execution_count": 93,
   "metadata": {},
   "outputs": [],
   "source": [
    "# 기타와 해외 출원인을 제거하고 그 중에선 어떤 카테고리가 해외출원이 많이 되었는지\n",
    "\n",
    "group = applicant_year[~applicant_year['applicant_lgrp'].isin(['etc', '해외출원인'])]\n"
   ]
  },
  {
   "cell_type": "code",
   "execution_count": 94,
   "metadata": {},
   "outputs": [
    {
     "name": "stderr",
     "output_type": "stream",
     "text": [
      "C:\\Users\\com\\AppData\\Local\\Temp\\ipykernel_3208\\369691915.py:1: FutureWarning: \n",
      "\n",
      "Passing `palette` without assigning `hue` is deprecated and will be removed in v0.14.0. Assign the `x` variable to `hue` and set `legend=False` for the same effect.\n",
      "\n",
      "  sns.countplot(data=group,x='applicant_lgrp',palette=sns.color_palette('deep6'))\n",
      "C:\\Users\\com\\AppData\\Local\\Temp\\ipykernel_3208\\369691915.py:1: UserWarning: The palette list has more values (6) than needed (3), which may not be intended.\n",
      "  sns.countplot(data=group,x='applicant_lgrp',palette=sns.color_palette('deep6'))\n"
     ]
    },
    {
     "data": {
      "image/png": "[encoded data removed]",
      "text/plain": [
       "<Figure size 640x480 with 1 Axes>"
      ]
     },
     "metadata": {},
     "output_type": "display_data"
    }
   ],
   "source": [
    "sns.countplot(data=group,x='applicant_lgrp',palette=sns.color_palette('deep6'))\n",
    "plt.show()"
   ]
  },
  {
   "cell_type": "code",
   "execution_count": 96,
   "metadata": {},
   "outputs": [
    {
     "data": {
      "image/png": "[encoded data removed]",
      "text/plain": [
       "<Figure size 640x480 with 1 Axes>"
      ]
     },
     "metadata": {},
     "output_type": "display_data"
    }
   ],
   "source": [
    "plt.pie(group.applicant_lgrp.value_counts(),shadow=True, autopct='%1.1f%%',colors=sns.color_palette('muted'))\n",
    "plt.legend(group.applicant_lgrp.value_counts().index,loc='best')\n",
    "plt.axis('equal')\n",
    "plt.title('국내 중 해외 출원 비율')\n",
    "plt.show()"
   ]
  },
  {
   "cell_type": "code",
   "execution_count": 100,
   "metadata": {},
   "outputs": [
    {
     "name": "stdout",
     "output_type": "stream",
     "text": [
      "{'자동화시스템': 4, '보안': 7, '엔터테인먼트': 11, '농업': 0, '교육': 1, '금융': 1, '자동차': 30, '전자상거래서비스': 13, '의료': 4, '제너럴': 120}\n"
     ]
    }
   ],
   "source": [
    "dic = {}\n",
    "for i in df_category:\n",
    "    dic[i] = int(group[i].sum())\n",
    "print(dic)"
   ]
  },
  {
   "cell_type": "code",
   "execution_count": 107,
   "metadata": {},
   "outputs": [
    {
     "data": {
      "image/png": "[encoded data removed]",
      "text/plain": [
       "<Figure size 1000x500 with 1 Axes>"
      ]
     },
     "metadata": {},
     "output_type": "display_data"
    }
   ],
   "source": [
    "label = dic.keys()\n",
    "value = dic.values()\n",
    "\n",
    "plt.figure(figsize=(10,5))\n",
    "plt.pie(value,autopct='%1.1f%%',shadow=True,colors=sns.color_palette('pastel'))\n",
    "plt.legend(label,loc='upper right')\n",
    "plt.title('국내 출원 중 카테고리 비율')\n",
    "plt.axis('equal')\n",
    "plt.show()"
   ]
  },
  {
   "cell_type": "code",
   "execution_count": 119,
   "metadata": {},
   "outputs": [],
   "source": [
    "\n",
    "# 밸류 값을 기준으로 정렬\n",
    "sorted_dict = sorted(dic.items(), key=lambda x: x[1],reverse=True)\n",
    "\n",
    "sorted_dict = dict(sorted_dict[:5])\n"
   ]
  },
  {
   "cell_type": "code",
   "execution_count": 121,
   "metadata": {},
   "outputs": [
    {
     "data": {
      "image/png": "[encoded data removed]",
      "text/plain": [
       "<Figure size 1000x500 with 1 Axes>"
      ]
     },
     "metadata": {},
     "output_type": "display_data"
    }
   ],
   "source": [
    "label = sorted_dict.keys()\n",
    "value = sorted_dict.values()\n",
    "\n",
    "plt.figure(figsize=(10,5))\n",
    "plt.pie(value,autopct='%1.1f%%',shadow=True,colors=sns.color_palette('pastel'))\n",
    "plt.legend(label,loc='upper right')\n",
    "plt.title('국내 출원 중 top 5 카테고리 비율')\n",
    "plt.axis('equal')\n",
    "plt.show()"
   ]
  },
  {
   "cell_type": "code",
   "execution_count": null,
   "metadata": {},
   "outputs": [],
   "source": [
    "# 크롤링\n",
    "# 화장품 제품 - 스킨케어 순위 : 올리브영, 네이버쇼핑"
   ]
  },
  {
   "cell_type": "code",
   "execution_count": 123,
   "metadata": {},
   "outputs": [
    {
     "name": "stdout",
     "output_type": "stream",
     "text": [
      "[굿즈증정/1+1]닥터지 레드 블레미쉬 클리어 수딩 크림 70ml 1+1 기획\n",
      "[한정기획] 구달 청귤 비타C 잡티케어 세럼 30ml+31ml 리필 기획\n",
      "[단독/더블기획] 웰라쥬 리얼 히알루로닉 블루 100 앰플 75ml 1+1 기획\n",
      "[아랑Pick] VT 리들샷 100 에센스 50ml 기획/단품\n",
      "토리든 다이브인 저분자 히알루론산 수딩크림 더블기획 (100ml+100ml)\n",
      "[3년연속어워즈] 아누아 어성초 77 수딩 토너 350ml 리필 기획세트(350ml+350ml리필)\n",
      "라로슈포제 시카플라스트 밤B5+ 100ml 기획 (+시카크림 15ml 증정)\n",
      "[6월 올영픽] 라운드랩 소나무 진정 시카 앰플 30ml 더블기획 (+크림 50ml)\n",
      "[1+1+1한정기획/모공탄력] 성분에디터 그린토마토 모공앰플 30ml 1+1+1 트리플기획\n",
      "[후니언 PICK/1+1] 에스네이처 아쿠아 스쿠알란 수분크림 60ml 더블 기획 (+카밍패드 2매)\n",
      "VT 리들샷 300 에센스 50ml\n",
      "[김지영PICK/한정기획] 아이소이 BR 블레미쉬 케어 업 세럼30ml 1+1 기획(30ml+30ml)\n",
      "[대용량] 파티온 노스카나인 트러블 세럼 단독 기획 (50ml+15ml)\n",
      "[호시PICK/6월 올영픽] 달바 화이트 트러플 퍼스트 스프레이 세럼 100ml + 100ml 기획세트\n",
      "[6월 올영픽/아일릿 원희PICK]바이오더마 하이드라비오 에센스로션 200ml 더블 기획\n",
      "에스트라 아토베리어365 크림 80ml 기획 (+하이드로에센스 25ml+리제덤세럼 7ml)\n",
      "[화해1위/수분쿨링진정] 에스네이처 아쿠아 오아시스 수분 젤크림 90ml 기획 (+카밍패드 2매)\n",
      "[피부결] 넘버즈인 3번 보들보들 결 세럼 80ml 기획(+3번 결 세럼팩)\n",
      "[트러블촉이올때] 브링그린 징크테카 트러블 세럼 한정기획\n",
      "[1+1+증정]닥터지 레드 블레미쉬 바쿠치올 포어젯 세럼 30ml 리필 기획 (+크림 10ml)\n",
      "38,000\n",
      "28,800\n",
      "28,000\n",
      "20,160\n",
      "46,000\n",
      "29,900\n",
      "32,000\n",
      "24,600\n",
      "42,000\n",
      "27,930\n",
      "49,000\n",
      "32,000\n",
      "39,000\n",
      "43,000\n",
      "28,000\n",
      "38,000\n",
      "26,600\n",
      "43,000\n",
      "23,500\n",
      "43,000\n",
      "34,400\n",
      "43,500\n",
      "39,900\n",
      "38,000\n",
      "59,800\n",
      "31,900\n",
      "54,000\n",
      "43,200\n",
      "33,000\n",
      "34,000\n",
      "21,760\n",
      "38,000\n",
      "39,600\n",
      "21,240\n",
      "60,000\n",
      "29,900\n"
     ]
    }
   ],
   "source": [
    "import requests\n",
    "from bs4 import BeautifulSoup\n",
    "\n",
    "url ='https://www.oliveyoung.co.kr/store/display/getCategoryShop.do?dispCatNo=10000010001&gateCd=Drawer&t_page=%EB%93%9C%EB%A1%9C%EC%9A%B0_%EC%B9%B4%ED%85%8C%EA%B3%A0%EB%A6%AC&t_click=%EC%B9%B4%ED%85%8C%EA%B3%A0%EB%A6%AC%ED%83%AD_%EB%8C%80%EC%B9%B4%ED%85%8C%EA%B3%A0%EB%A6%AC&t_1st_category_type=%EB%8C%80_%EC%8A%A4%ED%82%A8%EC%BC%80%EC%96%B4'\n",
    "\n",
    "res = requests.get(url)\n",
    "soup = BeautifulSoup(res.text,'html.parser')\n",
    "\n",
    "all_title = soup.select('.tx_name')\n",
    "\n",
    "for all in all_title:\n",
    "    print(all.text)\n",
    "\n",
    "all_price = soup.select('.tx_num')\n",
    "for a in all_price:\n",
    "    print(a.text)"
   ]
  },
  {
   "cell_type": "code",
   "execution_count": 134,
   "metadata": {},
   "outputs": [
    {
     "name": "stdout",
     "output_type": "stream",
     "text": [
      "100 100 100 100\n"
     ]
    },
    {
     "data": {
      "text/html": [
       "<div>\n",
       "<style scoped>\n",
       "    .dataframe tbody tr th:only-of-type {\n",
       "        vertical-align: middle;\n",
       "    }\n",
       "\n",
       "    .dataframe tbody tr th {\n",
       "        vertical-align: top;\n",
       "    }\n",
       "\n",
       "    .dataframe thead th {\n",
       "        text-align: right;\n",
       "    }\n",
       "</style>\n",
       "<table border=\"1\" class=\"dataframe\">\n",
       "  <thead>\n",
       "    <tr style=\"text-align: right;\">\n",
       "      <th></th>\n",
       "      <th>Rank</th>\n",
       "      <th>Brand</th>\n",
       "      <th>Title</th>\n",
       "      <th>Price</th>\n",
       "    </tr>\n",
       "  </thead>\n",
       "  <tbody>\n",
       "    <tr>\n",
       "      <th>0</th>\n",
       "      <td>1</td>\n",
       "      <td>닥터지</td>\n",
       "      <td>[굿즈증정/1+1]닥터지 레드 블레미쉬 클리어 수딩 크림 70ml 1+1 기획</td>\n",
       "      <td>28,800</td>\n",
       "    </tr>\n",
       "    <tr>\n",
       "      <th>1</th>\n",
       "      <td>2</td>\n",
       "      <td>VT</td>\n",
       "      <td>[아랑Pick] VT 리들샷 100 에센스 50ml 기획/단품</td>\n",
       "      <td>24,600</td>\n",
       "    </tr>\n",
       "    <tr>\n",
       "      <th>2</th>\n",
       "      <td>3</td>\n",
       "      <td>웰라쥬</td>\n",
       "      <td>[단독/더블기획] 웰라쥬 리얼 히알루로닉 블루 100 앰플 75ml 1+1 기획</td>\n",
       "      <td>29,900</td>\n",
       "    </tr>\n",
       "    <tr>\n",
       "      <th>3</th>\n",
       "      <td>4</td>\n",
       "      <td>라운드랩</td>\n",
       "      <td>[6월 올영픽] 라운드랩 소나무 진정 시카 앰플 30ml 더블기획 (+크림 50ml)</td>\n",
       "      <td>28,000</td>\n",
       "    </tr>\n",
       "    <tr>\n",
       "      <th>4</th>\n",
       "      <td>5</td>\n",
       "      <td>구달</td>\n",
       "      <td>[한정기획] 구달 청귤 비타C 잡티케어 세럼 30ml+31ml 리필 기획</td>\n",
       "      <td>20,160</td>\n",
       "    </tr>\n",
       "    <tr>\n",
       "      <th>...</th>\n",
       "      <td>...</td>\n",
       "      <td>...</td>\n",
       "      <td>...</td>\n",
       "      <td>...</td>\n",
       "    </tr>\n",
       "    <tr>\n",
       "      <th>95</th>\n",
       "      <td>96</td>\n",
       "      <td>CKD</td>\n",
       "      <td>[한혜진PICK]CKD 레티노콜라겐 저분자 300 괄사 목주름 크림 50ml 1+1 기획</td>\n",
       "      <td>33,700</td>\n",
       "    </tr>\n",
       "    <tr>\n",
       "      <th>96</th>\n",
       "      <td>97</td>\n",
       "      <td>바이오힐보</td>\n",
       "      <td>[3D볼륨탄력크림] 바이오힐보 프로바이오덤 3D 리프팅크림 50ml 리필기획</td>\n",
       "      <td>39,900</td>\n",
       "    </tr>\n",
       "    <tr>\n",
       "      <th>97</th>\n",
       "      <td>98</td>\n",
       "      <td>에스네이처</td>\n",
       "      <td>[소윤PICK/화해1위] 에스네이처 아쿠아 오아시스 토너 300ml 기획(+ 수분크...</td>\n",
       "      <td>18,900</td>\n",
       "    </tr>\n",
       "    <tr>\n",
       "      <th>98</th>\n",
       "      <td>99</td>\n",
       "      <td>토리든</td>\n",
       "      <td>[대용량기획] 토리든 다이브인 저분자 히알루론산 세럼 70ml 대용량 기획(+세럼 ...</td>\n",
       "      <td>24,000</td>\n",
       "    </tr>\n",
       "    <tr>\n",
       "      <th>99</th>\n",
       "      <td>100</td>\n",
       "      <td>아이소이</td>\n",
       "      <td>[김지영PICK/1+1] 아이소이 장수진 수분크림 50ml 1+1 한정기획(50ml...</td>\n",
       "      <td>23,940</td>\n",
       "    </tr>\n",
       "  </tbody>\n",
       "</table>\n",
       "<p>100 rows × 4 columns</p>\n",
       "</div>"
      ],
      "text/plain": [
       "    Rank  Brand                                              Title   Price\n",
       "0      1    닥터지        [굿즈증정/1+1]닥터지 레드 블레미쉬 클리어 수딩 크림 70ml 1+1 기획  28,800\n",
       "1      2     VT                 [아랑Pick] VT 리들샷 100 에센스 50ml 기획/단품  24,600\n",
       "2      3    웰라쥬       [단독/더블기획] 웰라쥬 리얼 히알루로닉 블루 100 앰플 75ml 1+1 기획  29,900\n",
       "3      4   라운드랩    [6월 올영픽] 라운드랩 소나무 진정 시카 앰플 30ml 더블기획 (+크림 50ml)  28,000\n",
       "4      5     구달           [한정기획] 구달 청귤 비타C 잡티케어 세럼 30ml+31ml 리필 기획  20,160\n",
       "..   ...    ...                                                ...     ...\n",
       "95    96    CKD  [한혜진PICK]CKD 레티노콜라겐 저분자 300 괄사 목주름 크림 50ml 1+1 기획  33,700\n",
       "96    97  바이오힐보         [3D볼륨탄력크림] 바이오힐보 프로바이오덤 3D 리프팅크림 50ml 리필기획  39,900\n",
       "97    98  에스네이처  [소윤PICK/화해1위] 에스네이처 아쿠아 오아시스 토너 300ml 기획(+ 수분크...  18,900\n",
       "98    99    토리든  [대용량기획] 토리든 다이브인 저분자 히알루론산 세럼 70ml 대용량 기획(+세럼 ...  24,000\n",
       "99   100   아이소이  [김지영PICK/1+1] 아이소이 장수진 수분크림 50ml 1+1 한정기획(50ml...  23,940\n",
       "\n",
       "[100 rows x 4 columns]"
      ]
     },
     "execution_count": 134,
     "metadata": {},
     "output_type": "execute_result"
    }
   ],
   "source": [
    "import requests\n",
    "from bs4 import BeautifulSoup\n",
    "\n",
    "url = 'https://www.oliveyoung.co.kr/store/main/getBestList.do?dispCatNo=900000100100001&fltDispCatNo=10000010001&pageIdx=1&rowsPerPage=8&t_page=%EC%B9%B4%ED%85%8C%EA%B3%A0%EB%A6%AC%EA%B4%80&t_click=%EB%9E%AD%ED%82%B9BEST%EC%83%81%ED%92%88%EB%B8%8C%EB%9E%9C%EB%93%9C_%EC%9D%B8%EA%B8%B0%EC%83%81%ED%92%88%EB%8D%94%EB%B3%B4%EA%B8%B0'\n",
    "\n",
    "res = requests.get(url)\n",
    "soup = BeautifulSoup(res.text,'html.parser')\n",
    "\n",
    "# rank = []\n",
    "# all_rank = soup.select('.thumb_flag')\n",
    "# for r in all_rank:\n",
    "#     rank.append(r.text)\n",
    "\n",
    "\n",
    "# rank = []\n",
    "# all_rank = soup.select('.newOyflag ')\n",
    "# for r in all_rank:\n",
    "#     rank.append(r.text)\n",
    "# print(rank)\n",
    "\n",
    "rank = [i for i in range(1,101)]\n",
    "title = []\n",
    "all_title = soup.select('.tx_name')\n",
    "for t in all_title:\n",
    "    title.append(t.text)\n",
    "\n",
    "brand=[]\n",
    "all_brand = soup.select('.tx_brand')\n",
    "for b in all_brand:\n",
    "    brand.append(b.text)\n",
    "\n",
    "price = []\n",
    "all_price = soup.select('.tx_cur .tx_num')\n",
    "for p in all_price:\n",
    "    price.append(p.text)\n",
    "\n",
    "print(len(rank),len(title),len(brand),len(price))\n",
    "data = pd.DataFrame({'Rank':rank, \n",
    "                     'Brand':brand,\n",
    "                     'Title':title,\n",
    "                     'Price':price})\n",
    "data"
   ]
  },
  {
   "cell_type": "code",
   "execution_count": 136,
   "metadata": {},
   "outputs": [
    {
     "data": {
      "text/plain": [
       "Brand\n",
       "토리든      8\n",
       "라운드랩     7\n",
       "닥터지      5\n",
       "에스네이처    5\n",
       "브링그린     5\n",
       "에스트라     5\n",
       "구달       3\n",
       "피지오겔     3\n",
       "이니스프리    3\n",
       "넘버즈인     3\n",
       "Name: count, dtype: int64"
      ]
     },
     "execution_count": 136,
     "metadata": {},
     "output_type": "execute_result"
    }
   ],
   "source": [
    "data.Brand.value_counts().head(10)"
   ]
  },
  {
   "cell_type": "code",
   "execution_count": 150,
   "metadata": {},
   "outputs": [
    {
     "data": {
      "text/plain": [
       "array(['닥터지', 'VT', '웰라쥬', '라운드랩', '구달', '토리든', '아이소이', '성분에디터', '브링그린',\n",
       "       '파티온', '이니스프리', '셀리맥스', '에스네이처', '아이디얼포맨', '피지오겔', '아비브', '퍼셀',\n",
       "       '에스트라', '넘버즈인', '달바', '쏘내추럴', '아이오페', '메이크프렘', '아누아', '아벤느',\n",
       "       '이즈앤트리', '디마르3', '우르오스', '닥터자르트', '한율', '바이오힐보', '차앤박', '온그리디언츠',\n",
       "       '이지듀', '메디큐브', '리얼베리어', '더랩바이블랑두', '라로슈포제', '바이오더마', 'AHC', '셀라딕스',\n",
       "       '센텔리안24', '에센허브', '디오디너리', '라네즈', '비욘드', 'CKD'], dtype=object)"
      ]
     },
     "execution_count": 150,
     "metadata": {},
     "output_type": "execute_result"
    }
   ],
   "source": [
    "data.Brand.unique()"
   ]
  },
  {
   "cell_type": "code",
   "execution_count": null,
   "metadata": {},
   "outputs": [],
   "source": []
  },
  {
   "cell_type": "code",
   "execution_count": 138,
   "metadata": {},
   "outputs": [],
   "source": [
    "import re\n",
    "\n",
    "def extract_ml(value):\n",
    "    match = re.search(r'(\\d+)ml', value)\n",
    "    return int(match.group(1)) if match else 0\n",
    "\n",
    "# 새로운 열 'ml' 생성 및 값 추출\n",
    "data['ML'] = data['Title'].apply(extract_ml)"
   ]
  },
  {
   "cell_type": "code",
   "execution_count": 149,
   "metadata": {},
   "outputs": [
    {
     "data": {
      "text/plain": [
       "ML\n",
       "50     17\n",
       "30     17\n",
       "0       8\n",
       "200     7\n",
       "100     6\n",
       "150     5\n",
       "300     5\n",
       "60      4\n",
       "20      3\n",
       "70      3\n",
       "Name: count, dtype: int64"
      ]
     },
     "execution_count": 149,
     "metadata": {},
     "output_type": "execute_result"
    }
   ],
   "source": [
    "data.ML.value_counts().head(10)"
   ]
  },
  {
   "cell_type": "code",
   "execution_count": 141,
   "metadata": {},
   "outputs": [
    {
     "data": {
      "text/html": [
       "<div>\n",
       "<style scoped>\n",
       "    .dataframe tbody tr th:only-of-type {\n",
       "        vertical-align: middle;\n",
       "    }\n",
       "\n",
       "    .dataframe tbody tr th {\n",
       "        vertical-align: top;\n",
       "    }\n",
       "\n",
       "    .dataframe thead th {\n",
       "        text-align: right;\n",
       "    }\n",
       "</style>\n",
       "<table border=\"1\" class=\"dataframe\">\n",
       "  <thead>\n",
       "    <tr style=\"text-align: right;\">\n",
       "      <th></th>\n",
       "      <th>Rank</th>\n",
       "      <th>Brand</th>\n",
       "      <th>Title</th>\n",
       "      <th>Price</th>\n",
       "      <th>ML</th>\n",
       "    </tr>\n",
       "  </thead>\n",
       "  <tbody>\n",
       "    <tr>\n",
       "      <th>9</th>\n",
       "      <td>10</td>\n",
       "      <td>브링그린</td>\n",
       "      <td>브링그린 티트리시카수딩크림플러스 더블한정기획(+토너250)(배스킨콜라보)</td>\n",
       "      <td>19,800</td>\n",
       "      <td>0</td>\n",
       "    </tr>\n",
       "    <tr>\n",
       "      <th>10</th>\n",
       "      <td>11</td>\n",
       "      <td>브링그린</td>\n",
       "      <td>[트러블촉이올때] 브링그린 징크테카 트러블 세럼 한정기획</td>\n",
       "      <td>21,240</td>\n",
       "      <td>0</td>\n",
       "    </tr>\n",
       "    <tr>\n",
       "      <th>14</th>\n",
       "      <td>15</td>\n",
       "      <td>브링그린</td>\n",
       "      <td>[대용량][한정기획] 브링그린 티트리시카수딩토너 500mL+200리필(배스킨콜라보)</td>\n",
       "      <td>20,340</td>\n",
       "      <td>0</td>\n",
       "    </tr>\n",
       "    <tr>\n",
       "      <th>19</th>\n",
       "      <td>20</td>\n",
       "      <td>아이디얼포맨</td>\n",
       "      <td>아이디얼 포 맨 프레시 올인원 젤 로션 1+1 한정기획</td>\n",
       "      <td>20,160</td>\n",
       "      <td>0</td>\n",
       "    </tr>\n",
       "    <tr>\n",
       "      <th>40</th>\n",
       "      <td>41</td>\n",
       "      <td>우르오스</td>\n",
       "      <td>우르오스 올인원 단품/기획 2종 택 1</td>\n",
       "      <td>29,700</td>\n",
       "      <td>0</td>\n",
       "    </tr>\n",
       "    <tr>\n",
       "      <th>63</th>\n",
       "      <td>64</td>\n",
       "      <td>토리든</td>\n",
       "      <td>[NEW/티벳동생PICK] 토리든 다이브인 포맨 저분자 히알루론산 올인원 200g</td>\n",
       "      <td>15,960</td>\n",
       "      <td>0</td>\n",
       "    </tr>\n",
       "    <tr>\n",
       "      <th>73</th>\n",
       "      <td>74</td>\n",
       "      <td>셀라딕스</td>\n",
       "      <td>셀라딕스 세범 리밸런싱 RX 131 앰플</td>\n",
       "      <td>25,400</td>\n",
       "      <td>0</td>\n",
       "    </tr>\n",
       "    <tr>\n",
       "      <th>85</th>\n",
       "      <td>86</td>\n",
       "      <td>브링그린</td>\n",
       "      <td>[NEW] 브링그린 대나무히알루수분크림100mL더블기획</td>\n",
       "      <td>18,800</td>\n",
       "      <td>0</td>\n",
       "    </tr>\n",
       "  </tbody>\n",
       "</table>\n",
       "</div>"
      ],
      "text/plain": [
       "    Rank   Brand                                           Title   Price  ML\n",
       "9     10    브링그린        브링그린 티트리시카수딩크림플러스 더블한정기획(+토너250)(배스킨콜라보)  19,800   0\n",
       "10    11    브링그린                 [트러블촉이올때] 브링그린 징크테카 트러블 세럼 한정기획  21,240   0\n",
       "14    15    브링그린  [대용량][한정기획] 브링그린 티트리시카수딩토너 500mL+200리필(배스킨콜라보)  20,340   0\n",
       "19    20  아이디얼포맨                  아이디얼 포 맨 프레시 올인원 젤 로션 1+1 한정기획  20,160   0\n",
       "40    41    우르오스                           우르오스 올인원 단품/기획 2종 택 1  29,700   0\n",
       "63    64     토리든   [NEW/티벳동생PICK] 토리든 다이브인 포맨 저분자 히알루론산 올인원 200g  15,960   0\n",
       "73    74    셀라딕스                          셀라딕스 세범 리밸런싱 RX 131 앰플  25,400   0\n",
       "85    86    브링그린                  [NEW] 브링그린 대나무히알루수분크림100mL더블기획  18,800   0"
      ]
     },
     "execution_count": 141,
     "metadata": {},
     "output_type": "execute_result"
    }
   ],
   "source": [
    "data[data.ML == 0]"
   ]
  },
  {
   "cell_type": "code",
   "execution_count": 146,
   "metadata": {},
   "outputs": [],
   "source": [
    "def extract_text(value):\n",
    "    match = re.search(r'(\\s[가-힣\\s]+)\\d+ml', value)\n",
    "    return match.group(1).strip() if match else 0\n",
    "\n",
    "# 새로운 열 'text' 생성 및 값 추출\n",
    "data['Type'] = data['Title'].apply(extract_text)"
   ]
  },
  {
   "cell_type": "code",
   "execution_count": 148,
   "metadata": {},
   "outputs": [
    {
     "data": {
      "text/plain": [
       "Type\n",
       "0                        22\n",
       "에센스                       3\n",
       "토리든 다이브인 저분자 히알루론산 세럼     3\n",
       "잡티케어 세럼                   2\n",
       "크림                        2\n",
       "                         ..\n",
       "라네즈 크림스킨                  1\n",
       "괄사 목주름 크림                 1\n",
       "리프팅크림                     1\n",
       "에스네이처 아쿠아 오아시스 토너         1\n",
       "아이소이 장수진 수분크림             1\n",
       "Name: count, Length: 71, dtype: int64"
      ]
     },
     "execution_count": 148,
     "metadata": {},
     "output_type": "execute_result"
    }
   ],
   "source": [
    "data.Type.value_counts()"
   ]
  },
  {
   "cell_type": "code",
   "execution_count": 144,
   "metadata": {},
   "outputs": [
    {
     "data": {
      "text/html": [
       "<div>\n",
       "<style scoped>\n",
       "    .dataframe tbody tr th:only-of-type {\n",
       "        vertical-align: middle;\n",
       "    }\n",
       "\n",
       "    .dataframe tbody tr th {\n",
       "        vertical-align: top;\n",
       "    }\n",
       "\n",
       "    .dataframe thead th {\n",
       "        text-align: right;\n",
       "    }\n",
       "</style>\n",
       "<table border=\"1\" class=\"dataframe\">\n",
       "  <thead>\n",
       "    <tr style=\"text-align: right;\">\n",
       "      <th></th>\n",
       "      <th>Rank</th>\n",
       "      <th>Brand</th>\n",
       "      <th>Title</th>\n",
       "      <th>Price</th>\n",
       "      <th>ML</th>\n",
       "      <th>Type</th>\n",
       "    </tr>\n",
       "  </thead>\n",
       "  <tbody>\n",
       "    <tr>\n",
       "      <th>5</th>\n",
       "      <td>6</td>\n",
       "      <td>토리든</td>\n",
       "      <td>토리든 다이브인 저분자 히알루론산 수딩크림 더블기획 (100ml+100ml)</td>\n",
       "      <td>27,930</td>\n",
       "      <td>100</td>\n",
       "      <td>0</td>\n",
       "    </tr>\n",
       "    <tr>\n",
       "      <th>9</th>\n",
       "      <td>10</td>\n",
       "      <td>브링그린</td>\n",
       "      <td>브링그린 티트리시카수딩크림플러스 더블한정기획(+토너250)(배스킨콜라보)</td>\n",
       "      <td>19,800</td>\n",
       "      <td>0</td>\n",
       "      <td>0</td>\n",
       "    </tr>\n",
       "    <tr>\n",
       "      <th>10</th>\n",
       "      <td>11</td>\n",
       "      <td>브링그린</td>\n",
       "      <td>[트러블촉이올때] 브링그린 징크테카 트러블 세럼 한정기획</td>\n",
       "      <td>21,240</td>\n",
       "      <td>0</td>\n",
       "      <td>0</td>\n",
       "    </tr>\n",
       "    <tr>\n",
       "      <th>13</th>\n",
       "      <td>14</td>\n",
       "      <td>파티온</td>\n",
       "      <td>[대용량] 파티온 노스카나인 트러블 세럼 단독 기획 (50ml+15ml)</td>\n",
       "      <td>38,000</td>\n",
       "      <td>50</td>\n",
       "      <td>0</td>\n",
       "    </tr>\n",
       "    <tr>\n",
       "      <th>14</th>\n",
       "      <td>15</td>\n",
       "      <td>브링그린</td>\n",
       "      <td>[대용량][한정기획] 브링그린 티트리시카수딩토너 500mL+200리필(배스킨콜라보)</td>\n",
       "      <td>20,340</td>\n",
       "      <td>0</td>\n",
       "      <td>0</td>\n",
       "    </tr>\n",
       "    <tr>\n",
       "      <th>19</th>\n",
       "      <td>20</td>\n",
       "      <td>아이디얼포맨</td>\n",
       "      <td>아이디얼 포 맨 프레시 올인원 젤 로션 1+1 한정기획</td>\n",
       "      <td>20,160</td>\n",
       "      <td>0</td>\n",
       "      <td>0</td>\n",
       "    </tr>\n",
       "    <tr>\n",
       "      <th>21</th>\n",
       "      <td>22</td>\n",
       "      <td>아비브</td>\n",
       "      <td>[7월 올영픽/촘촘수분] 아비브 어성초 카밍 토너 스킨부스터 더블 기획 (200ml...</td>\n",
       "      <td>27,300</td>\n",
       "      <td>200</td>\n",
       "      <td>0</td>\n",
       "    </tr>\n",
       "    <tr>\n",
       "      <th>40</th>\n",
       "      <td>41</td>\n",
       "      <td>우르오스</td>\n",
       "      <td>우르오스 올인원 단품/기획 2종 택 1</td>\n",
       "      <td>29,700</td>\n",
       "      <td>0</td>\n",
       "      <td>0</td>\n",
       "    </tr>\n",
       "    <tr>\n",
       "      <th>51</th>\n",
       "      <td>52</td>\n",
       "      <td>구달</td>\n",
       "      <td>[리필기획] 구달 청귤 비타C 잡티케어 크림 리필에디션 기획(75ml+75ml리필)</td>\n",
       "      <td>22,800</td>\n",
       "      <td>75</td>\n",
       "      <td>0</td>\n",
       "    </tr>\n",
       "    <tr>\n",
       "      <th>54</th>\n",
       "      <td>55</td>\n",
       "      <td>브링그린</td>\n",
       "      <td>[화잘먹크림] 브링그린 티트리시카수딩크림플러스 100mL+100ml 더블기획</td>\n",
       "      <td>19,800</td>\n",
       "      <td>100</td>\n",
       "      <td>0</td>\n",
       "    </tr>\n",
       "    <tr>\n",
       "      <th>57</th>\n",
       "      <td>58</td>\n",
       "      <td>온그리디언츠</td>\n",
       "      <td>온그리디언츠 스킨 베리어 카밍 속광 로션 기획(220ml+80ml)</td>\n",
       "      <td>39,900</td>\n",
       "      <td>220</td>\n",
       "      <td>0</td>\n",
       "    </tr>\n",
       "    <tr>\n",
       "      <th>63</th>\n",
       "      <td>64</td>\n",
       "      <td>토리든</td>\n",
       "      <td>[NEW/티벳동생PICK] 토리든 다이브인 포맨 저분자 히알루론산 올인원 200g</td>\n",
       "      <td>15,960</td>\n",
       "      <td>0</td>\n",
       "      <td>0</td>\n",
       "    </tr>\n",
       "    <tr>\n",
       "      <th>73</th>\n",
       "      <td>74</td>\n",
       "      <td>셀라딕스</td>\n",
       "      <td>셀라딕스 세범 리밸런싱 RX 131 앰플</td>\n",
       "      <td>25,400</td>\n",
       "      <td>0</td>\n",
       "      <td>0</td>\n",
       "    </tr>\n",
       "    <tr>\n",
       "      <th>85</th>\n",
       "      <td>86</td>\n",
       "      <td>브링그린</td>\n",
       "      <td>[NEW] 브링그린 대나무히알루수분크림100mL더블기획</td>\n",
       "      <td>18,800</td>\n",
       "      <td>0</td>\n",
       "      <td>0</td>\n",
       "    </tr>\n",
       "    <tr>\n",
       "      <th>94</th>\n",
       "      <td>95</td>\n",
       "      <td>비욘드</td>\n",
       "      <td>[400만개돌파/1등수분크림] 비욘드 엔젤아쿠아 수분진정크림 더블기획(150mlX2...</td>\n",
       "      <td>25,000</td>\n",
       "      <td>150</td>\n",
       "      <td>0</td>\n",
       "    </tr>\n",
       "  </tbody>\n",
       "</table>\n",
       "</div>"
      ],
      "text/plain": [
       "    Rank   Brand                                              Title   Price  \\\n",
       "5      6     토리든         토리든 다이브인 저분자 히알루론산 수딩크림 더블기획 (100ml+100ml)  27,930   \n",
       "9     10    브링그린           브링그린 티트리시카수딩크림플러스 더블한정기획(+토너250)(배스킨콜라보)  19,800   \n",
       "10    11    브링그린                    [트러블촉이올때] 브링그린 징크테카 트러블 세럼 한정기획  21,240   \n",
       "13    14     파티온           [대용량] 파티온 노스카나인 트러블 세럼 단독 기획 (50ml+15ml)  38,000   \n",
       "14    15    브링그린     [대용량][한정기획] 브링그린 티트리시카수딩토너 500mL+200리필(배스킨콜라보)  20,340   \n",
       "19    20  아이디얼포맨                     아이디얼 포 맨 프레시 올인원 젤 로션 1+1 한정기획  20,160   \n",
       "21    22     아비브  [7월 올영픽/촘촘수분] 아비브 어성초 카밍 토너 스킨부스터 더블 기획 (200ml...  27,300   \n",
       "40    41    우르오스                              우르오스 올인원 단품/기획 2종 택 1  29,700   \n",
       "51    52      구달     [리필기획] 구달 청귤 비타C 잡티케어 크림 리필에디션 기획(75ml+75ml리필)  22,800   \n",
       "54    55    브링그린         [화잘먹크림] 브링그린 티트리시카수딩크림플러스 100mL+100ml 더블기획  19,800   \n",
       "57    58  온그리디언츠              온그리디언츠 스킨 베리어 카밍 속광 로션 기획(220ml+80ml)  39,900   \n",
       "63    64     토리든      [NEW/티벳동생PICK] 토리든 다이브인 포맨 저분자 히알루론산 올인원 200g  15,960   \n",
       "73    74    셀라딕스                             셀라딕스 세범 리밸런싱 RX 131 앰플  25,400   \n",
       "85    86    브링그린                     [NEW] 브링그린 대나무히알루수분크림100mL더블기획  18,800   \n",
       "94    95     비욘드  [400만개돌파/1등수분크림] 비욘드 엔젤아쿠아 수분진정크림 더블기획(150mlX2...  25,000   \n",
       "\n",
       "     ML Type  \n",
       "5   100    0  \n",
       "9     0    0  \n",
       "10    0    0  \n",
       "13   50    0  \n",
       "14    0    0  \n",
       "19    0    0  \n",
       "21  200    0  \n",
       "40    0    0  \n",
       "51   75    0  \n",
       "54  100    0  \n",
       "57  220    0  \n",
       "63    0    0  \n",
       "73    0    0  \n",
       "85    0    0  \n",
       "94  150    0  "
      ]
     },
     "execution_count": 144,
     "metadata": {},
     "output_type": "execute_result"
    }
   ],
   "source": [
    "data[data.Type == 0]"
   ]
  },
  {
   "cell_type": "code",
   "execution_count": 161,
   "metadata": {},
   "outputs": [
    {
     "data": {
      "text/html": [
       "<div>\n",
       "<style scoped>\n",
       "    .dataframe tbody tr th:only-of-type {\n",
       "        vertical-align: middle;\n",
       "    }\n",
       "\n",
       "    .dataframe tbody tr th {\n",
       "        vertical-align: top;\n",
       "    }\n",
       "\n",
       "    .dataframe thead th {\n",
       "        text-align: right;\n",
       "    }\n",
       "</style>\n",
       "<table border=\"1\" class=\"dataframe\">\n",
       "  <thead>\n",
       "    <tr style=\"text-align: right;\">\n",
       "      <th></th>\n",
       "      <th>Rank</th>\n",
       "      <th>Brand</th>\n",
       "      <th>Title</th>\n",
       "      <th>Price</th>\n",
       "      <th>ML</th>\n",
       "      <th>Type</th>\n",
       "    </tr>\n",
       "  </thead>\n",
       "  <tbody>\n",
       "    <tr>\n",
       "      <th>0</th>\n",
       "      <td>1</td>\n",
       "      <td>닥터지</td>\n",
       "      <td>[굿즈증정/1+1]닥터지 레드 블레미쉬 클리어 수딩 크림 70ml 1+1 기획</td>\n",
       "      <td>28800</td>\n",
       "      <td>70</td>\n",
       "      <td>레드 블레미쉬 클리어 수딩 크림</td>\n",
       "    </tr>\n",
       "    <tr>\n",
       "      <th>1</th>\n",
       "      <td>2</td>\n",
       "      <td>VT</td>\n",
       "      <td>[아랑Pick] VT 리들샷 100 에센스 50ml 기획/단품</td>\n",
       "      <td>24600</td>\n",
       "      <td>50</td>\n",
       "      <td>에센스</td>\n",
       "    </tr>\n",
       "    <tr>\n",
       "      <th>2</th>\n",
       "      <td>3</td>\n",
       "      <td>웰라쥬</td>\n",
       "      <td>[단독/더블기획] 웰라쥬 리얼 히알루로닉 블루 100 앰플 75ml 1+1 기획</td>\n",
       "      <td>29900</td>\n",
       "      <td>75</td>\n",
       "      <td>앰플</td>\n",
       "    </tr>\n",
       "    <tr>\n",
       "      <th>3</th>\n",
       "      <td>4</td>\n",
       "      <td>라운드랩</td>\n",
       "      <td>[6월 올영픽] 라운드랩 소나무 진정 시카 앰플 30ml 더블기획 (+크림 50ml)</td>\n",
       "      <td>28000</td>\n",
       "      <td>30</td>\n",
       "      <td>라운드랩 소나무 진정 시카 앰플</td>\n",
       "    </tr>\n",
       "    <tr>\n",
       "      <th>4</th>\n",
       "      <td>5</td>\n",
       "      <td>구달</td>\n",
       "      <td>[한정기획] 구달 청귤 비타C 잡티케어 세럼 30ml+31ml 리필 기획</td>\n",
       "      <td>20160</td>\n",
       "      <td>30</td>\n",
       "      <td>잡티케어 세럼</td>\n",
       "    </tr>\n",
       "    <tr>\n",
       "      <th>...</th>\n",
       "      <td>...</td>\n",
       "      <td>...</td>\n",
       "      <td>...</td>\n",
       "      <td>...</td>\n",
       "      <td>...</td>\n",
       "      <td>...</td>\n",
       "    </tr>\n",
       "    <tr>\n",
       "      <th>95</th>\n",
       "      <td>96</td>\n",
       "      <td>CKD</td>\n",
       "      <td>[한혜진PICK]CKD 레티노콜라겐 저분자 300 괄사 목주름 크림 50ml 1+1 기획</td>\n",
       "      <td>33700</td>\n",
       "      <td>50</td>\n",
       "      <td>괄사 목주름 크림</td>\n",
       "    </tr>\n",
       "    <tr>\n",
       "      <th>96</th>\n",
       "      <td>97</td>\n",
       "      <td>바이오힐보</td>\n",
       "      <td>[3D볼륨탄력크림] 바이오힐보 프로바이오덤 3D 리프팅크림 50ml 리필기획</td>\n",
       "      <td>39900</td>\n",
       "      <td>50</td>\n",
       "      <td>리프팅크림</td>\n",
       "    </tr>\n",
       "    <tr>\n",
       "      <th>97</th>\n",
       "      <td>98</td>\n",
       "      <td>에스네이처</td>\n",
       "      <td>[소윤PICK/화해1위] 에스네이처 아쿠아 오아시스 토너 300ml 기획(+ 수분크...</td>\n",
       "      <td>18900</td>\n",
       "      <td>300</td>\n",
       "      <td>에스네이처 아쿠아 오아시스 토너</td>\n",
       "    </tr>\n",
       "    <tr>\n",
       "      <th>98</th>\n",
       "      <td>99</td>\n",
       "      <td>토리든</td>\n",
       "      <td>[대용량기획] 토리든 다이브인 저분자 히알루론산 세럼 70ml 대용량 기획(+세럼 ...</td>\n",
       "      <td>24000</td>\n",
       "      <td>70</td>\n",
       "      <td>토리든 다이브인 저분자 히알루론산 세럼</td>\n",
       "    </tr>\n",
       "    <tr>\n",
       "      <th>99</th>\n",
       "      <td>100</td>\n",
       "      <td>아이소이</td>\n",
       "      <td>[김지영PICK/1+1] 아이소이 장수진 수분크림 50ml 1+1 한정기획(50ml...</td>\n",
       "      <td>23940</td>\n",
       "      <td>50</td>\n",
       "      <td>아이소이 장수진 수분크림</td>\n",
       "    </tr>\n",
       "  </tbody>\n",
       "</table>\n",
       "<p>100 rows × 6 columns</p>\n",
       "</div>"
      ],
      "text/plain": [
       "    Rank  Brand                                              Title  Price  \\\n",
       "0      1    닥터지        [굿즈증정/1+1]닥터지 레드 블레미쉬 클리어 수딩 크림 70ml 1+1 기획  28800   \n",
       "1      2     VT                 [아랑Pick] VT 리들샷 100 에센스 50ml 기획/단품  24600   \n",
       "2      3    웰라쥬       [단독/더블기획] 웰라쥬 리얼 히알루로닉 블루 100 앰플 75ml 1+1 기획  29900   \n",
       "3      4   라운드랩    [6월 올영픽] 라운드랩 소나무 진정 시카 앰플 30ml 더블기획 (+크림 50ml)  28000   \n",
       "4      5     구달           [한정기획] 구달 청귤 비타C 잡티케어 세럼 30ml+31ml 리필 기획  20160   \n",
       "..   ...    ...                                                ...    ...   \n",
       "95    96    CKD  [한혜진PICK]CKD 레티노콜라겐 저분자 300 괄사 목주름 크림 50ml 1+1 기획  33700   \n",
       "96    97  바이오힐보         [3D볼륨탄력크림] 바이오힐보 프로바이오덤 3D 리프팅크림 50ml 리필기획  39900   \n",
       "97    98  에스네이처  [소윤PICK/화해1위] 에스네이처 아쿠아 오아시스 토너 300ml 기획(+ 수분크...  18900   \n",
       "98    99    토리든  [대용량기획] 토리든 다이브인 저분자 히알루론산 세럼 70ml 대용량 기획(+세럼 ...  24000   \n",
       "99   100   아이소이  [김지영PICK/1+1] 아이소이 장수진 수분크림 50ml 1+1 한정기획(50ml...  23940   \n",
       "\n",
       "     ML                   Type  \n",
       "0    70      레드 블레미쉬 클리어 수딩 크림  \n",
       "1    50                    에센스  \n",
       "2    75                     앰플  \n",
       "3    30      라운드랩 소나무 진정 시카 앰플  \n",
       "4    30                잡티케어 세럼  \n",
       "..  ...                    ...  \n",
       "95   50              괄사 목주름 크림  \n",
       "96   50                  리프팅크림  \n",
       "97  300      에스네이처 아쿠아 오아시스 토너  \n",
       "98   70  토리든 다이브인 저분자 히알루론산 세럼  \n",
       "99   50          아이소이 장수진 수분크림  \n",
       "\n",
       "[100 rows x 6 columns]"
      ]
     },
     "execution_count": 161,
     "metadata": {},
     "output_type": "execute_result"
    }
   ],
   "source": [
    "data"
   ]
  },
  {
   "cell_type": "code",
   "execution_count": 168,
   "metadata": {},
   "outputs": [
    {
     "name": "stdout",
     "output_type": "stream",
     "text": [
      "0     28800\n",
      "1     24600\n",
      "2     29900\n",
      "3     28000\n",
      "4     20160\n",
      "      ...  \n",
      "95    33700\n",
      "96    39900\n",
      "97    18900\n",
      "98    24000\n",
      "99    23940\n",
      "Name: Price, Length: 100, dtype: int64\n"
     ]
    }
   ],
   "source": [
    "# data['Price'] = data['Price'].str.replace(',','').astype(int)\n",
    "print(data.Price)\n",
    "data['1ML'] =  round(data['Price'] /data['ML'])\n"
   ]
  },
  {
   "cell_type": "code",
   "execution_count": 176,
   "metadata": {},
   "outputs": [
    {
     "data": {
      "text/plain": [
       "14       inf\n",
       "19       inf\n",
       "9        inf\n",
       "10       inf\n",
       "73       inf\n",
       "85       inf\n",
       "63       inf\n",
       "40       inf\n",
       "59    3250.0\n",
       "23    1975.0\n",
       "83    1975.0\n",
       "75    1740.0\n",
       "86    1584.0\n",
       "49    1425.0\n",
       "30    1417.0\n",
       "24    1350.0\n",
       "56    1330.0\n",
       "77    1330.0\n",
       "6     1330.0\n",
       "67     997.0\n",
       "Name: 1ML, dtype: float64"
      ]
     },
     "execution_count": 176,
     "metadata": {},
     "output_type": "execute_result"
    }
   ],
   "source": [
    "data['1ML'].sort_values(ascending=False).head(20)"
   ]
  }
 ],
 "metadata": {
  "kernelspec": {
   "display_name": "myenv",
   "language": "python",
   "name": "python3"
  },
  "language_info": {
   "codemirror_mode": {
    "name": "ipython",
    "version": 3
   },
   "file_extension": ".py",
   "mimetype": "text/x-python",
   "name": "python",
   "nbconvert_exporter": "python",
   "pygments_lexer": "ipython3",
   "version": "3.11.2"
  }
 },
 "nbformat": 4,
 "nbformat_minor": 2
}
